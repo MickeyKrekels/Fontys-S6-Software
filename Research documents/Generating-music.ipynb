{
 "cells": [
  {
   "cell_type": "markdown",
   "metadata": {},
   "source": [
    "# Generating music with AI \n",
    "\n",
    "in this notebook the folowing code will generate music using the TensorFlow libary.\n",
    "\n",
    "# Loading the imports "
   ]
  },
  {
   "cell_type": "code",
   "execution_count": null,
   "metadata": {},
   "outputs": [],
   "source": [
    "i = 2 + 4\n",
    "print(i) "
   ]
  }
 ],
 "metadata": {
  "interpreter": {
   "hash": "078d566078f14b4be70c414a9de7b9c19051fe4a3b00a99dd6ad71aa30033c59"
  },
  "kernelspec": {
   "display_name": "Python 3.10.4 64-bit (windows store)",
   "language": "python",
   "name": "python3"
  },
  "language_info": {
   "codemirror_mode": {
    "name": "ipython",
    "version": 3
   },
   "file_extension": ".py",
   "mimetype": "text/x-python",
   "name": "python",
   "nbconvert_exporter": "python",
   "pygments_lexer": "ipython3",
   "version": "3.10.4"
  },
  "orig_nbformat": 4
 },
 "nbformat": 4,
 "nbformat_minor": 2
}
